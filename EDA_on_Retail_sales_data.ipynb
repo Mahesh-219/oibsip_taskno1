{
  "nbformat": 4,
  "nbformat_minor": 0,
  "metadata": {
    "colab": {
      "private_outputs": true,
      "provenance": [],
      "authorship_tag": "ABX9TyM40gm54JHuMaatCR+4kQoE",
      "include_colab_link": true
    },
    "kernelspec": {
      "name": "python3",
      "display_name": "Python 3"
    },
    "language_info": {
      "name": "python"
    }
  },
  "cells": [
    {
      "cell_type": "markdown",
      "metadata": {
        "id": "view-in-github",
        "colab_type": "text"
      },
      "source": [
        "<a href=\"https://colab.research.google.com/github/Mahesh-219/oibsip_taskno1/blob/main/EDA_on_Retail_sales_data.ipynb\" target=\"_parent\"><img src=\"https://colab.research.google.com/assets/colab-badge.svg\" alt=\"Open In Colab\"/></a>"
      ]
    },
    {
      "cell_type": "code",
      "source": [
        "import pandas as pd\n",
        "import numpy as np\n",
        "import matplotlib.pyplot as plt\n",
        "import seaborn as sns"
      ],
      "metadata": {
        "id": "IXypNJHR2bIF"
      },
      "execution_count": null,
      "outputs": []
    },
    {
      "cell_type": "code",
      "source": [
        "# Load the datasets\n",
        "df1 = pd.read_csv('/content/retail_sales_dataset.csv')\n",
        "df2 = pd.read_csv('/content/retail_sales_dataset.csv')"
      ],
      "metadata": {
        "id": "h5bHkNzoT8qj"
      },
      "execution_count": null,
      "outputs": []
    },
    {
      "cell_type": "code",
      "source": [
        "# Display the first few rows of the datasets\n",
        "print(df1.head())\n",
        "print(df2.head())\n"
      ],
      "metadata": {
        "id": "brMzQkOAULb0"
      },
      "execution_count": null,
      "outputs": []
    },
    {
      "cell_type": "code",
      "source": [
        "# Data Cleaning\n",
        "df = pd.concat([df1, df2], ignore_index=True)"
      ],
      "metadata": {
        "id": "TH8V2P36UQ2W"
      },
      "execution_count": null,
      "outputs": []
    },
    {
      "cell_type": "code",
      "source": [
        "# Handle missing values\n",
        "df = df.dropna()"
      ],
      "metadata": {
        "id": "rLGLRW51UX7h"
      },
      "execution_count": null,
      "outputs": []
    },
    {
      "cell_type": "code",
      "source": [
        "# Convert columns to appropriate data types\n",
        "df['Date'] = pd.to_datetime(df['Date'])"
      ],
      "metadata": {
        "id": "RiNbdvEmUX1X"
      },
      "execution_count": null,
      "outputs": []
    },
    {
      "cell_type": "code",
      "source": [
        "\n",
        "print(df.describe())\n"
      ],
      "metadata": {
        "id": "BQkXwWB8U0uC"
      },
      "execution_count": null,
      "outputs": []
    },
    {
      "cell_type": "code",
      "source": [
        "# Calculate mode\n",
        "mode_values = df.mode().iloc[0]\n",
        "print(\"Mode values:\")\n",
        "print(mode_values)"
      ],
      "metadata": {
        "id": "FQdYt_w_U5jQ"
      },
      "execution_count": null,
      "outputs": []
    },
    {
      "cell_type": "code",
      "source": [
        "print(df.columns)"
      ],
      "metadata": {
        "id": "tB0cxIafadp0"
      },
      "execution_count": null,
      "outputs": []
    },
    {
      "cell_type": "code",
      "source": [
        "import pandas as pd\n",
        "import numpy as np\n",
        "\n",
        "\n",
        "np.random.seed(42)\n",
        "\n",
        "# Generate a date range\n",
        "date_range = pd.date_range(start='2021-01-01', end='2023-12-31', freq='D')\n",
        "\n",
        "# Generate random sales data\n",
        "sales_data = {\n",
        "    'date': date_range,\n",
        "    'sales': np.random.randint(100, 1000, size=len(date_range)),\n",
        "    'customer_id': np.random.randint(1, 500, size=len(date_range)),\n",
        "    'product_id': np.random.randint(1, 100, size=len(date_range))\n",
        "}\n",
        "\n",
        "# Create a DataFrame\n",
        "df = pd.DataFrame(sales_data)\n",
        "\n",
        "# Save the dataset to a CSV file\n",
        "df.to_csv('sample_retail_sales.csv', index=False)\n",
        "\n",
        "# Display the first few rows of the dataset\n",
        "print(df.head())\n"
      ],
      "metadata": {
        "id": "fDyWArHpazsG"
      },
      "execution_count": null,
      "outputs": []
    },
    {
      "cell_type": "code",
      "source": [
        "import pandas as pd\n",
        "import numpy as np\n",
        "import matplotlib.pyplot as plt\n",
        "\n",
        "# Set a random seed for reproducibility\n",
        "np.random.seed(42)\n",
        "\n",
        "# Generate a date range\n",
        "date_range = pd.date_range(start='2021-01-01', end='2023-12-31', freq='D')\n",
        "\n",
        "# Generate random sales data\n",
        "sales_data = {\n",
        "    'date': date_range,\n",
        "    'sales': np.random.randint(100, 1000, size=len(date_range)),\n",
        "    'customer_id': np.random.randint(1, 500, size=len(date_range)),\n",
        "    'product_id': np.random.randint(1, 100, size=len(date_range))\n",
        "}\n",
        "\n",
        "# Create a DataFrame and set 'date' as index\n",
        "df = pd.DataFrame(sales_data)\n",
        "df.set_index('date', inplace=True) # Set 'date' column as index\n",
        "\n",
        "# Save the dataset to a CSV file\n",
        "df.to_csv('sample_retail_sales.csv', index=False)\n",
        "\n",
        "# Display the first few rows of the dataset\n",
        "print(df.head())\n",
        "\n",
        "# Resample the data to monthly frequency, summing the sales\n",
        "monthly_sales = df['sales'].resample('M').sum()\n",
        "\n",
        "# Plot the monthly sales\n",
        "plt.figure(figsize=(14, 7))\n",
        "plt.plot(monthly_sales, marker='o', linestyle='-', color='b')\n",
        "plt.title('Monthly Sales Trend')\n",
        "plt.xlabel('Date')\n",
        "plt.ylabel('Sales')\n",
        "plt.grid(True)\n",
        "plt.show()"
      ],
      "metadata": {
        "id": "UKu5Ki9TbaHp"
      },
      "execution_count": null,
      "outputs": []
    },
    {
      "cell_type": "code",
      "source": [
        "import pandas as pd\n",
        "import numpy as np\n",
        "import matplotlib.pyplot as plt\n",
        "from statsmodels.tsa.seasonal import seasonal_decompose\n",
        "\n",
        "\n",
        "\n",
        "# Decompose the time series\n",
        "decomposition = seasonal_decompose(monthly_sales, model='additive')\n",
        "fig = decomposition.plot()\n",
        "fig.set_size_inches(14, 8)\n",
        "plt.show()"
      ],
      "metadata": {
        "id": "DKASZaaDbuJU"
      },
      "execution_count": null,
      "outputs": []
    },
    {
      "cell_type": "code",
      "source": [
        "# Customer and Product Analysis\n",
        "\n",
        "customer_spending = df.groupby('customer_id')['sales'].sum().sort_values(ascending=False)\n",
        "print(customer_spending.head())"
      ],
      "metadata": {
        "id": "mRH3fLMDdDAO"
      },
      "execution_count": null,
      "outputs": []
    },
    {
      "cell_type": "code",
      "source": [
        "# Example: Group by product and calculate total sales\n",
        "product_sales = df.groupby('product_id')['sales'].sum().sort_values(ascending=False)\n",
        "print(product_sales.head())\n"
      ],
      "metadata": {
        "id": "dPMhRpHwdCzg"
      },
      "execution_count": null,
      "outputs": []
    },
    {
      "cell_type": "code",
      "source": [
        "# Visualization\n",
        "# Bar chart of top 10 customers by total spending\n",
        "top_customers = customer_spending.head(10)\n",
        "plt.figure(figsize=(10, 6))\n",
        "sns.barplot(x=top_customers.index, y=top_customers.values)\n",
        "plt.title('Top 10 Customers by Total Spending')\n",
        "plt.xlabel('Customer ID')\n",
        "plt.ylabel('Total Spending')\n",
        "plt.show()"
      ],
      "metadata": {
        "id": "hPcVcsTgdJ11"
      },
      "execution_count": null,
      "outputs": []
    },
    {
      "cell_type": "code",
      "source": [
        "# Line plot of top 10 products by total sales\n",
        "top_products = product_sales.head(10)\n",
        "plt.figure(figsize=(10, 6))\n",
        "sns.lineplot(x=top_products.index, y=top_products.values)\n",
        "plt.title('Top 10 Products by Total Sales')\n",
        "plt.xlabel('Product ID')\n",
        "plt.ylabel('Total Sales')\n",
        "plt.show()"
      ],
      "metadata": {
        "id": "Ih_EyDmQdQZs"
      },
      "execution_count": null,
      "outputs": []
    },
    {
      "cell_type": "code",
      "source": [
        "# Heatmap of sales by product and month\n",
        "date_column = 'Date'\n",
        "if date_column not in df.columns:\n",
        "    date_column = 'order_date'\n",
        "    if date_column not in df.columns:\n",
        "\n",
        "        print(df.columns)\n",
        "\n",
        "        date_column = input(\"Enter the correct column name\")"
      ],
      "metadata": {
        "id": "13S1eE50eY-v"
      },
      "execution_count": null,
      "outputs": []
    },
    {
      "cell_type": "code",
      "source": [],
      "metadata": {
        "id": "X4KGt_o4eYx5"
      },
      "execution_count": null,
      "outputs": []
    },
    {
      "cell_type": "code",
      "source": [],
      "metadata": {
        "id": "ghK6Qac0eYko"
      },
      "execution_count": null,
      "outputs": []
    }
  ]
}